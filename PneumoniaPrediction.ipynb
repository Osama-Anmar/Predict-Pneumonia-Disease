{
 "cells": [
  {
   "cell_type": "code",
   "execution_count": 1,
   "metadata": {},
   "outputs": [],
   "source": [
    "import warnings\n",
    "warnings.filterwarnings(\"ignore\")\n",
    "\n",
    "import os\n",
    "os.environ['TF_CPP_MIN_LOG_LEVEL'] = '3' "
   ]
  },
  {
   "cell_type": "code",
   "execution_count": 2,
   "metadata": {},
   "outputs": [],
   "source": [
    "import tensorflow as tf"
   ]
  },
  {
   "cell_type": "code",
   "execution_count": 3,
   "metadata": {},
   "outputs": [
    {
     "name": "stdout",
     "output_type": "stream",
     "text": [
      "Found 5216 images belonging to 2 classes.\n"
     ]
    }
   ],
   "source": [
    "# Training DataSet\n",
    "train_data = tf.keras.preprocessing.image.ImageDataGenerator(rescale=1./255,\n",
    "                                shear_range=0.3,\n",
    "                                zoom_range=0.3,\n",
    "                                horizontal_flip= True)\n",
    "\n",
    "training_set =  train_data.flow_from_directory('chest_xray/train',\n",
    "                                               target_size= (64, 64),\n",
    "                                               batch_size=100,\n",
    "                                               class_mode='binary')"
   ]
  },
  {
   "cell_type": "code",
   "execution_count": 4,
   "metadata": {},
   "outputs": [
    {
     "name": "stdout",
     "output_type": "stream",
     "text": [
      "Found 624 images belonging to 2 classes.\n"
     ]
    }
   ],
   "source": [
    "# Testing DataSet\n",
    "test_data = tf.keras.preprocessing.image.ImageDataGenerator(rescale= 1./255)\n",
    "testing_set = test_data.flow_from_directory('chest_xray/test',\n",
    "                                            target_size=(64,64),\n",
    "                                            batch_size=100,\n",
    "                                            class_mode='binary')"
   ]
  },
  {
   "cell_type": "code",
   "execution_count": 5,
   "metadata": {},
   "outputs": [
    {
     "name": "stdout",
     "output_type": "stream",
     "text": [
      "Metal device set to: Apple M1\n",
      "\n",
      "systemMemory: 8.00 GB\n",
      "maxCacheSize: 2.67 GB\n",
      "\n",
      "Epoch 1/20\n",
      "53/53 [==============================] - 37s 679ms/step - loss: 0.4901 - accuracy: 0.7738 - val_loss: 0.3907 - val_accuracy: 0.8125\n",
      "Epoch 2/20\n",
      "53/53 [==============================] - 34s 635ms/step - loss: 0.3228 - accuracy: 0.8623 - val_loss: 0.3509 - val_accuracy: 0.8510\n",
      "Epoch 3/20\n",
      "53/53 [==============================] - 34s 641ms/step - loss: 0.2717 - accuracy: 0.8865 - val_loss: 0.3016 - val_accuracy: 0.8798\n",
      "Epoch 4/20\n",
      "53/53 [==============================] - 34s 644ms/step - loss: 0.2523 - accuracy: 0.8970 - val_loss: 0.3351 - val_accuracy: 0.8590\n",
      "Epoch 5/20\n",
      "53/53 [==============================] - 34s 647ms/step - loss: 0.2214 - accuracy: 0.9110 - val_loss: 0.2872 - val_accuracy: 0.8926\n",
      "Epoch 6/20\n",
      "53/53 [==============================] - 35s 654ms/step - loss: 0.1997 - accuracy: 0.9212 - val_loss: 0.3034 - val_accuracy: 0.9022\n",
      "Epoch 7/20\n",
      "53/53 [==============================] - 35s 655ms/step - loss: 0.1939 - accuracy: 0.9235 - val_loss: 0.2503 - val_accuracy: 0.9006\n",
      "Epoch 8/20\n",
      "53/53 [==============================] - 35s 662ms/step - loss: 0.1874 - accuracy: 0.9271 - val_loss: 0.3592 - val_accuracy: 0.8926\n",
      "Epoch 9/20\n",
      "53/53 [==============================] - 35s 654ms/step - loss: 0.1882 - accuracy: 0.9270 - val_loss: 0.2881 - val_accuracy: 0.9006\n",
      "Epoch 10/20\n",
      "53/53 [==============================] - 34s 648ms/step - loss: 0.1718 - accuracy: 0.9340 - val_loss: 0.3509 - val_accuracy: 0.8814\n",
      "Epoch 11/20\n",
      "53/53 [==============================] - 34s 648ms/step - loss: 0.1811 - accuracy: 0.9310 - val_loss: 0.2825 - val_accuracy: 0.9071\n",
      "Epoch 12/20\n",
      "53/53 [==============================] - 35s 652ms/step - loss: 0.1760 - accuracy: 0.9293 - val_loss: 0.2510 - val_accuracy: 0.9135\n",
      "Epoch 13/20\n",
      "53/53 [==============================] - 39s 732ms/step - loss: 0.1715 - accuracy: 0.9310 - val_loss: 0.2707 - val_accuracy: 0.9038\n",
      "Epoch 14/20\n",
      "53/53 [==============================] - 38s 709ms/step - loss: 0.1700 - accuracy: 0.9339 - val_loss: 0.2815 - val_accuracy: 0.9103\n",
      "Epoch 15/20\n",
      "53/53 [==============================] - 34s 644ms/step - loss: 0.1580 - accuracy: 0.9381 - val_loss: 0.3623 - val_accuracy: 0.9006\n",
      "Epoch 16/20\n",
      "53/53 [==============================] - 35s 652ms/step - loss: 0.1581 - accuracy: 0.9408 - val_loss: 0.2761 - val_accuracy: 0.9183\n",
      "Epoch 17/20\n",
      "53/53 [==============================] - 35s 654ms/step - loss: 0.1573 - accuracy: 0.9387 - val_loss: 0.2424 - val_accuracy: 0.9199\n",
      "Epoch 18/20\n",
      "53/53 [==============================] - 35s 655ms/step - loss: 0.1608 - accuracy: 0.9383 - val_loss: 0.2822 - val_accuracy: 0.9119\n",
      "Epoch 19/20\n",
      "53/53 [==============================] - 35s 663ms/step - loss: 0.1515 - accuracy: 0.9421 - val_loss: 0.3135 - val_accuracy: 0.9103\n",
      "Epoch 20/20\n",
      "53/53 [==============================] - 35s 664ms/step - loss: 0.1489 - accuracy: 0.9423 - val_loss: 0.2567 - val_accuracy: 0.9231\n",
      " \n",
      "7/7 - 3s - loss: 0.2567 - accuracy: 0.9231 - 3s/epoch - 390ms/step\n",
      "[0.2566881775856018, 0.9230769276618958]\n"
     ]
    }
   ],
   "source": [
    "# Building the CNN\n",
    "# Initialising the CNN\n",
    "with tf.device('cpu'):\n",
    "    cnn = tf.keras.models.Sequential()\n",
    "    # Convolution\n",
    "    cnn.add(tf.keras.layers.Conv2D(filters=64, kernel_size=3, activation='relu', input_shape=[64,64,3]))    \n",
    "    # Pooling\n",
    "    cnn.add(tf.keras.layers.MaxPool2D(pool_size=2, strides=2))\n",
    "\n",
    "    # Add Second Convolution Layer\n",
    "    cnn.add(tf.keras.layers.Conv2D(filters=64, kernel_size=3, activation='relu'))\n",
    "    cnn.add(tf.keras.layers.MaxPool2D(pool_size=2, strides=2))\n",
    "\n",
    "   # Add Third Convolution Layer\n",
    "    cnn.add(tf.keras.layers.Conv2D(filters=64, kernel_size=3, activation='relu'))\n",
    "    cnn.add(tf.keras.layers.MaxPool2D(pool_size=2, strides=2))\n",
    "\n",
    "    # Flattening\n",
    "    cnn.add(tf.keras.layers.Flatten())\n",
    "\n",
    "\n",
    "    # Full Conection\n",
    "    cnn.add(tf.keras.layers.Dense(units=256, activation='relu'))\n",
    "\n",
    "    # Output\n",
    "    cnn.add(tf.keras.layers.Dense(units=1, activation='sigmoid'))\n",
    "\n",
    "    # Compile\n",
    "    cnn.compile(optimizer = 'ADAM', loss='binary_crossentropy', metrics = ['accuracy'])\n",
    "\n",
    "     # Training The CNN\n",
    "    cnn.fit(x= training_set, validation_data=testing_set, epochs=20)\n",
    "\n",
    "    \n",
    "    print(\" \")\n",
    "    print(cnn.evaluate(testing_set, verbose=2))\n",
    "  "
   ]
  }
 ],
 "metadata": {
  "kernelspec": {
   "display_name": "Python 3.9.13 ('Python3.9')",
   "language": "python",
   "name": "python3"
  },
  "language_info": {
   "codemirror_mode": {
    "name": "ipython",
    "version": 3
   },
   "file_extension": ".py",
   "mimetype": "text/x-python",
   "name": "python",
   "nbconvert_exporter": "python",
   "pygments_lexer": "ipython3",
   "version": "3.10.10"
  },
  "orig_nbformat": 4,
  "vscode": {
   "interpreter": {
    "hash": "ce99dd29bd613a81d9aa52725c5671828d654fb12e1318fa7d104593fbf7162f"
   }
  }
 },
 "nbformat": 4,
 "nbformat_minor": 2
}
