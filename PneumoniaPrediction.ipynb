{
  "cells": [
    {
      "cell_type": "code",
      "execution_count": null,
      "metadata": {
        "id": "6qoooQMq8IdW"
      },
      "outputs": [],
      "source": [
        "import warnings\n",
        "warnings.filterwarnings(\"ignore\")\n",
        "\n",
        "import os\n",
        "os.environ['TF_CPP_MIN_LOG_LEVEL'] = '3' "
      ]
    },
    {
      "cell_type": "code",
      "execution_count": null,
      "metadata": {
        "id": "QHdLTIEX8Ida"
      },
      "outputs": [],
      "source": [
        "import numpy\n",
        "numpy.version.version"
      ]
    },
    {
      "cell_type": "code",
      "execution_count": null,
      "metadata": {
        "id": "mmA7wD3q8Idb"
      },
      "outputs": [],
      "source": [
        "import tensorflow as tf\n",
        "from keras_preprocessing.image import ImageDataGenerator"
      ]
    },
    {
      "cell_type": "code",
      "execution_count": null,
      "metadata": {
        "id": "Dspt613F8Idc"
      },
      "outputs": [],
      "source": [
        "# Training DataSet\n",
        "train_data = ImageDataGenerator(rescale=1./255,\n",
        "                                shear_range=0.3,\n",
        "                                zoom_range=0.3,\n",
        "                                horizontal_flip= True)\n",
        "\n",
        "training_set =  train_data.flow_from_directory('chest_xray/train',\n",
        "                                               target_size= (64, 64),\n",
        "                                               batch_size=100,\n",
        "                                               class_mode='binary')"
      ]
    },
    {
      "cell_type": "code",
      "execution_count": null,
      "metadata": {
        "id": "-plOorzE8Idc"
      },
      "outputs": [],
      "source": [
        "# Testing DataSet\n",
        "test_data = ImageDataGenerator(rescale= 1./255)\n",
        "testing_set = test_data.flow_from_directory('chest_xray/test',\n",
        "                                            target_size=(64,64),\n",
        "                                            batch_size=100,\n",
        "                                            class_mode='binary')"
      ]
    },
    {
      "cell_type": "code",
      "execution_count": null,
      "metadata": {
        "id": "WSFD1nWA8Idd"
      },
      "outputs": [],
      "source": [
        "# Building the CNN\n",
        "# Initialising the CNN\n",
        "with tf.device('gpu'):\n",
        "    cnn = tf.keras.models.Sequential()\n",
        "    # Convolution\n",
        "    cnn.add(tf.keras.layers.Conv2D(filters=64, kernel_size=3, activation='relu', input_shape=[64,64,3]))    \n",
        "    # Pooling\n",
        "    cnn.add(tf.keras.layers.MaxPool2D(pool_size=2, strides=2))\n",
        "\n",
        "    # Add Second Convolution Layer\n",
        "    cnn.add(tf.keras.layers.Conv2D(filters=64, kernel_size=3, activation='relu'))\n",
        "    cnn.add(tf.keras.layers.MaxPool2D(pool_size=2, strides=2))\n",
        "\n",
        "   # Add Third Convolution Layer\n",
        "    cnn.add(tf.keras.layers.Conv2D(filters=64, kernel_size=3, activation='relu'))\n",
        "    cnn.add(tf.keras.layers.MaxPool2D(pool_size=2, strides=2))\n",
        "\n",
        "    # Flattening\n",
        "    cnn.add(tf.keras.layers.Flatten())\n",
        "\n",
        "\n",
        "    # Full Conection\n",
        "    cnn.add(tf.keras.layers.Dense(units=256, activation='relu'))\n",
        "\n",
        "    # Output\n",
        "    cnn.add(tf.keras.layers.Dense(units=1, activation='sigmoid'))\n",
        "\n",
        "    # Compile\n",
        "    cnn.compile(optimizer = 'ADAM', loss='binary_crossentropy', metrics = ['accuracy'])\n",
        "\n",
        "     # Training The CNN\n",
        "    cnn.fit(x= training_set, validation_data=testing_set, epochs=20)\n",
        "\n",
        "    \n",
        "    print(\" \")\n",
        "    print(cnn.evaluate(testing_set, verbose=2))\n",
        "  "
      ]
    },
    {
      "cell_type": "code",
      "execution_count": null,
      "metadata": {
        "id": "rrKMa60t8Ide"
      },
      "outputs": [],
      "source": []
    }
  ],
  "metadata": {
    "kernelspec": {
      "display_name": "Python 3.9.13 ('Python3.9')",
      "language": "python",
      "name": "python3"
    },
    "language_info": {
      "codemirror_mode": {
        "name": "ipython",
        "version": 3
      },
      "file_extension": ".py",
      "mimetype": "text/x-python",
      "name": "python",
      "nbconvert_exporter": "python",
      "pygments_lexer": "ipython3",
      "version": "3.9.13"
    },
    "orig_nbformat": 4,
    "vscode": {
      "interpreter": {
        "hash": "ce99dd29bd613a81d9aa52725c5671828d654fb12e1318fa7d104593fbf7162f"
      }
    },
    "colab": {
      "provenance": []
    }
  },
  "nbformat": 4,
  "nbformat_minor": 0
}